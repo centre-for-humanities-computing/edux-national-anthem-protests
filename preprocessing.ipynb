{
 "cells": [
  {
   "cell_type": "markdown",
   "metadata": {
    "Collapsed": "false"
   },
   "source": [
    "# Extraction and Preprocessing Pipeline #"
   ]
  },
  {
   "cell_type": "markdown",
   "metadata": {
    "Collapsed": "false"
   },
   "source": [
    "## Import Python Modules ##\n",
    "A module is a Python object with arbitrarily named attributes that you can bind and reference. Simply, a module is a file consisting of Python code. A module can define functions, classes and variables. A module can also include runnable code.\n",
    "\n",
    "To make use of the functions in a module, you'll need to import the module with an import statement. An import statement is made up of the import keyword along with the name of the module. In a Python file, this will be declared at the top of the code, under any shebang lines or general comments."
   ]
  },
  {
   "cell_type": "code",
   "execution_count": 1,
   "metadata": {
    "Collapsed": "false"
   },
   "outputs": [],
   "source": [
    "import os\n",
    "import json\n",
    "import pandas as pd\n",
    "from datetime import datetime"
   ]
  },
  {
   "cell_type": "markdown",
   "metadata": {
    "Collapsed": "false"
   },
   "source": [
    "## Create `DatasetLoader` class ##\n",
    "\n",
    "Python is an \"object-oriented programming\" (OOP) language. This means that almost all the code is implemented using a special construct called classes. Programmers use classes to keep related things together. This is done using the keyword “class,” which is a grouping of object-oriented constructs.\n",
    "\n",
    "A class is a code template for creating objects. Objects have member variables and have behaviour associated with them. In python a class is created by the keyword class."
   ]
  },
  {
   "cell_type": "code",
   "execution_count": 2,
   "metadata": {
    "Collapsed": "false"
   },
   "outputs": [],
   "source": [
    "class DatasetLoader:\n",
    "    \"\"\" Dataset loader for ndjson Reddit files\n",
    "    \"\"\"\n",
    "    def __init__(self, preprocessers=None):\n",
    "        self.preprocessors = preprocessers\n",
    "        if self.preprocessors is None:\n",
    "            self.preprocessorts = list()\n",
    "            \n",
    "    def load(self, filepath, datasort=False, save=False, verbose=-1):\n",
    "        \"\"\" Load ndjson file\n",
    "            - filepath:\n",
    "            - datasort:\n",
    "            - save:\n",
    "            - verbose:\n",
    "        \"\"\"\n",
    "        AUTHOR = list()\n",
    "        BODY = list()\n",
    "        CREATED = list()\n",
    "        \n",
    "        with open(filepath, \"r\") as fname:\n",
    "            lignes = fname.readlines()\n",
    "            for (i, ligne) in enumerate(lignes):\n",
    "                dobj = json.loads(ligne)\n",
    "                \n",
    "                author = dobj[\"author\"]\n",
    "                body = dobj[\"body\"]\n",
    "                created = datetime.fromtimestamp(dobj[\"created_utc\"])\n",
    "                \n",
    "                if self.preprocessors is not None:\n",
    "                    for p in self.preprocessors:\n",
    "                        body = p.preprocess(body)\n",
    "                \n",
    "                AUTHOR.append(author)\n",
    "                BODY.append(body)\n",
    "                CREATED.append(created)\n",
    "                \n",
    "                if verbose > 0 and i > 0 and (i + 1) % verbose == 0:\n",
    "                    print(\"[INFO] processed {}/{}\".format(i + 1, len(lignes)))\n",
    "        \n",
    "        df = pd.DataFrame()\n",
    "        df[\"author\"] = AUTHOR\n",
    "        df[\"body\"] = BODY\n",
    "        df[\"created\"] = CREATED\n",
    "        \n",
    "        if datasort:\n",
    "            df.sort_values(by=[\"created\"])\n",
    "        \n",
    "        if save:\n",
    "            outname = filepath.split(\".\")[0] + \".csv\"\n",
    "            df.to_csv(outname, index=False)\n",
    "            \n",
    "            \n",
    "        return df"
   ]
  },
  {
   "cell_type": "markdown",
   "metadata": {
    "Collapsed": "false"
   },
   "source": [
    "### Instantiate class ###\n",
    "An object is created using the constructor of the class. This object will then be called the instance of the class. In Python we create instances in the following manner"
   ]
  },
  {
   "cell_type": "code",
   "execution_count": 3,
   "metadata": {
    "Collapsed": "false"
   },
   "outputs": [],
   "source": [
    "def main():\n",
    "    fpath = os.path.join(\"dat_reddit\", \"comments.ndjson\")\n",
    "    dl = DatasetLoader()\n",
    "    df = dl.load(filepath=fpath, datasort=True, save=True, verbose=100)"
   ]
  },
  {
   "cell_type": "code",
   "execution_count": 4,
   "metadata": {
    "Collapsed": "false"
   },
   "outputs": [
    {
     "name": "stdout",
     "output_type": "stream",
     "text": [
      "[INFO] processed 100/1200\n",
      "[INFO] processed 200/1200\n",
      "[INFO] processed 300/1200\n",
      "[INFO] processed 400/1200\n",
      "[INFO] processed 500/1200\n",
      "[INFO] processed 600/1200\n",
      "[INFO] processed 700/1200\n",
      "[INFO] processed 800/1200\n",
      "[INFO] processed 900/1200\n",
      "[INFO] processed 1000/1200\n",
      "[INFO] processed 1100/1200\n",
      "[INFO] processed 1200/1200\n"
     ]
    }
   ],
   "source": [
    "main()"
   ]
  }
 ],
 "metadata": {
  "kernelspec": {
   "display_name": "Python 3",
   "language": "python",
   "name": "python3"
  },
  "language_info": {
   "codemirror_mode": {
    "name": "ipython",
    "version": 3
   },
   "file_extension": ".py",
   "mimetype": "text/x-python",
   "name": "python",
   "nbconvert_exporter": "python",
   "pygments_lexer": "ipython3",
   "version": "3.7.6"
  }
 },
 "nbformat": 4,
 "nbformat_minor": 4
}
